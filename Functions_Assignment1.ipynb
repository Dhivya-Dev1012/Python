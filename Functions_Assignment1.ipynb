{
 "cells": [
  {
   "cell_type": "code",
   "execution_count": 5,
   "id": "1409c90a-a795-4330-adb4-bb4d2f7e01d3",
   "metadata": {},
   "outputs": [],
   "source": [
    "def subFields():\n",
    "    print(\"Sub-fields in AI are:\")\n",
    "    subAIFieldList=[\"Machine Learning\",\"Neural Networks\",\"Vision\",\"Robotics\",\"Speech Processing\",\"Natural Language Processing\"]\n",
    "    for field in subAIFieldList:\n",
    "        print(field)"
   ]
  },
  {
   "cell_type": "code",
   "execution_count": 6,
   "id": "1ab83eae-d706-4362-99bc-56168e2a0015",
   "metadata": {},
   "outputs": [
    {
     "name": "stdout",
     "output_type": "stream",
     "text": [
      "Sub-fields in AI are:\n",
      "Machine Learning\n",
      "Neural Networks\n",
      "Vision\n",
      "Robotics\n",
      "Speech Processing\n",
      "Natural Language Processing\n"
     ]
    }
   ],
   "source": [
    "subFields()"
   ]
  },
  {
   "cell_type": "code",
   "execution_count": 13,
   "id": "41b41fd7-93f4-4812-9a11-0b9839f215c9",
   "metadata": {},
   "outputs": [],
   "source": [
    "def OddEven():\n",
    "    num=int(input(\"Enter a number: \"))\n",
    "    if(num%2==0):\n",
    "        message=f\"{num} is Even Number\"\n",
    "    else:\n",
    "        message=f\"{num} is Odd Number\"\n",
    "    return message"
   ]
  },
  {
   "cell_type": "code",
   "execution_count": 17,
   "id": "0f05d299-119e-4324-b065-76eb884b0e1d",
   "metadata": {},
   "outputs": [
    {
     "name": "stdin",
     "output_type": "stream",
     "text": [
      "Enter a number:  14\n"
     ]
    },
    {
     "name": "stdout",
     "output_type": "stream",
     "text": [
      "14 is Even Number\n"
     ]
    }
   ],
   "source": [
    "result=OddEven()\n",
    "print(result)\n",
    "    "
   ]
  },
  {
   "cell_type": "code",
   "execution_count": 22,
   "id": "370f362e-c871-45a0-839b-baa089b62a98",
   "metadata": {},
   "outputs": [],
   "source": [
    "def eligibilityForMarriage(gender,age):\n",
    "    if(gender==\"Male\"):\n",
    "        if(age>20):\n",
    "            message=\"ELIGIBLE\"\n",
    "        else:\n",
    "            message=\"NOT ELIGIBLE\"\n",
    "    if(gender==\"Female\"):\n",
    "        if(age>17):\n",
    "            message=\"ELIGIBLE\"\n",
    "        else:\n",
    "            message=\"NOT ELIGIBLE\"\n",
    "    return message"
   ]
  },
  {
   "cell_type": "code",
   "execution_count": 26,
   "id": "27be79e8-501c-4d46-bb17-acb7faeb321f",
   "metadata": {},
   "outputs": [
    {
     "name": "stdin",
     "output_type": "stream",
     "text": [
      "Enter the Gender:  Female\n",
      "Enter the Age:  32\n"
     ]
    },
    {
     "name": "stdout",
     "output_type": "stream",
     "text": [
      "Your Gender:  Female\n",
      "Your Age:  32\n",
      "ELIGIBLE\n"
     ]
    }
   ],
   "source": [
    "gender=input(\"Enter the Gender: \")\n",
    "age=int(input(\"Enter the Age: \"))\n",
    "eligible=eligibilityForMarriage(gender,age)\n",
    "print(\"Your Gender: \",gender)\n",
    "print(\"Your Age: \",age)\n",
    "print(eligible)"
   ]
  },
  {
   "cell_type": "code",
   "execution_count": 35,
   "id": "f0e09b37-d93b-44f5-abb8-b8ec1bdd6a47",
   "metadata": {},
   "outputs": [],
   "source": [
    "def percentage():\n",
    "    mark1=int(input(\"Enter the mark1: \"))\n",
    "    mark2=int(input(\"Enter the mark2: \"))\n",
    "    mark3=int(input(\"Enter the mark3: \"))\n",
    "    mark4=int(input(\"Enter the mark4: \"))\n",
    "    mark5=int(input(\"Enter the mark5: \"))\n",
    "    print(\"Subject1= \",mark1)\n",
    "    print(\"Subject2= \",mark2)\n",
    "    print(\"Subject3= \",mark3)\n",
    "    print(\"Subject4= \",mark4)\n",
    "    print(\"Subject5= \",mark5)\n",
    "    total=mark1+mark2+mark3+mark4+mark5;\n",
    "    print(\"Total :\",total)\n",
    "    percentage=total/5\n",
    "    print(\"Percentage: {:.14f}\".format(percentage))"
   ]
  },
  {
   "cell_type": "code",
   "execution_count": 36,
   "id": "e0ab3f50-26d4-43b7-ada8-e1eadeedd35a",
   "metadata": {},
   "outputs": [
    {
     "name": "stdin",
     "output_type": "stream",
     "text": [
      "Enter the mark1:  98\n",
      "Enter the mark2:  87\n",
      "Enter the mark3:  95\n",
      "Enter the mark4:  95\n",
      "Enter the mark5:  93\n"
     ]
    },
    {
     "name": "stdout",
     "output_type": "stream",
     "text": [
      "Subject1=  98\n",
      "Subject2=  87\n",
      "Subject3=  95\n",
      "Subject4=  95\n",
      "Subject5=  93\n",
      "Total : 468\n",
      "Percentage: 93.59999999999999\n"
     ]
    }
   ],
   "source": [
    "percentage()"
   ]
  },
  {
   "cell_type": "code",
   "execution_count": 41,
   "id": "a6ae7a9b-11ef-4626-914f-6f681c9a2704",
   "metadata": {},
   "outputs": [],
   "source": [
    "def triangle():\n",
    "    height=int(input(\"Enter Height: \"))\n",
    "    breadth=int(input(\"Enter Breadth: \"))\n",
    "    print(\"Height: \",height)\n",
    "    print(\"Breadth: \",breadth)\n",
    "    print(\"Area formula: (Height*Breadth)/2\")\n",
    "    print(\"Area of Triangle: \",area(height,breadth))\n",
    "    height1=int(input(\"Enter Height1: \"))\n",
    "    height2=int(input(\"Enter Height2: \"))\n",
    "    Breadth=int(input(\"Enter Breadth: \"))\n",
    "    print(\"Perimeter Formula: Height1+Height2+Breadth\")\n",
    "    print(\"Perimeter of Triangle: \",perimeter(height1,height2,Breadth))\n",
    "                                                 \n",
    "          \n",
    "    "
   ]
  },
  {
   "cell_type": "code",
   "execution_count": 37,
   "id": "3c2c6e1f-c048-433c-bd65-d9a265c0b991",
   "metadata": {},
   "outputs": [],
   "source": [
    "def area(height,breadth):\n",
    "    return (height*breadth)/2"
   ]
  },
  {
   "cell_type": "code",
   "execution_count": 38,
   "id": "5a074888-6d89-44ae-a4c5-25223a890da3",
   "metadata": {},
   "outputs": [],
   "source": [
    "def perimeter(height1,height2,breadth):\n",
    "    return height1+height2+breadth"
   ]
  },
  {
   "cell_type": "code",
   "execution_count": 42,
   "id": "00a64b2f-96e1-42f5-bcd5-79734e342b92",
   "metadata": {},
   "outputs": [
    {
     "name": "stdin",
     "output_type": "stream",
     "text": [
      "Enter Height:  32\n",
      "Enter Breadth:  34\n"
     ]
    },
    {
     "name": "stdout",
     "output_type": "stream",
     "text": [
      "Height:  32\n",
      "Breadth:  34\n",
      "Area formula: (Height*Breadth)/2\n",
      "Area of Triangle:  544.0\n"
     ]
    },
    {
     "name": "stdin",
     "output_type": "stream",
     "text": [
      "Enter Height1:  2\n",
      "Enter Height2:  4\n",
      "Enter Breadth:  4\n"
     ]
    },
    {
     "name": "stdout",
     "output_type": "stream",
     "text": [
      "Perimeter Formula: Height1+Height2+Breadth\n",
      "Perimeter of Triangle:  10\n"
     ]
    }
   ],
   "source": [
    "triangle()"
   ]
  },
  {
   "cell_type": "code",
   "execution_count": null,
   "id": "f5ed26ae-90b3-4ae6-a5d0-9e5084aba408",
   "metadata": {},
   "outputs": [],
   "source": []
  }
 ],
 "metadata": {
  "kernelspec": {
   "display_name": "Python [conda env:base] *",
   "language": "python",
   "name": "conda-base-py"
  },
  "language_info": {
   "codemirror_mode": {
    "name": "ipython",
    "version": 3
   },
   "file_extension": ".py",
   "mimetype": "text/x-python",
   "name": "python",
   "nbconvert_exporter": "python",
   "pygments_lexer": "ipython3",
   "version": "3.12.7"
  }
 },
 "nbformat": 4,
 "nbformat_minor": 5
}
