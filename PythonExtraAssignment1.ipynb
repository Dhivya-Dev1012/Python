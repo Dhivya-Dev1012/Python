{
 "cells": [
  {
   "cell_type": "code",
   "execution_count": 1,
   "id": "b89841d8-f6c3-4592-b276-28a581bcaa5f",
   "metadata": {},
   "outputs": [
    {
     "name": "stdout",
     "output_type": "stream",
     "text": [
      "HOPE AI\n"
     ]
    }
   ],
   "source": [
    "print(\"HOPE AI\")"
   ]
  },
  {
   "cell_type": "code",
   "execution_count": 2,
   "id": "64f6db57-9bfe-4a29-87c1-5c35543786ea",
   "metadata": {},
   "outputs": [
    {
     "name": "stdin",
     "output_type": "stream",
     "text": [
      "Enter your institute name? : HOPE AI\n"
     ]
    }
   ],
   "source": [
    "institute_name=input(\"Enter your institute name? :\")"
   ]
  },
  {
   "cell_type": "code",
   "execution_count": 3,
   "id": "c3af90fa-5883-4740-9023-bd9f670c2130",
   "metadata": {},
   "outputs": [
    {
     "name": "stdin",
     "output_type": "stream",
     "text": [
      "Enter your name:  Raj\n",
      "Enter your age:  15\n",
      "Enter your school name:  Guru school\n",
      "Enter your degree:  B.E CSE\n"
     ]
    }
   ],
   "source": [
    "name=input(\"Enter your name: \")\n",
    "age=int(input(\"Enter your age: \"))\n",
    "schoolName=input(\"Enter your school name: \")\n",
    "degree=input(\"Enter your degree: \")"
   ]
  },
  {
   "cell_type": "code",
   "execution_count": 5,
   "id": "c73f1484-2a96-46c2-9eb4-945e19402e85",
   "metadata": {},
   "outputs": [
    {
     "name": "stdout",
     "output_type": "stream",
     "text": [
      "a=  43\n",
      "b=  34\n",
      "add=  77\n"
     ]
    }
   ],
   "source": [
    "a=43\n",
    "b=34\n",
    "print(\"a= \",a)\n",
    "print(\"b= \",b)\n",
    "print(\"add= \",a+b)"
   ]
  },
  {
   "cell_type": "code",
   "execution_count": 6,
   "id": "ef7d9acb-4d01-427a-b648-cdb564ceb82b",
   "metadata": {},
   "outputs": [
    {
     "name": "stdout",
     "output_type": "stream",
     "text": [
      "a=  43\n",
      "b=  34\n",
      "Sub=  9\n"
     ]
    }
   ],
   "source": [
    "a=43\n",
    "b=34\n",
    "print(\"a= \",a)\n",
    "print(\"b= \",b)\n",
    "print(\"Sub= \",a-b)"
   ]
  },
  {
   "cell_type": "code",
   "execution_count": 7,
   "id": "3261e649-d42f-4b89-963b-a1d8c12ce258",
   "metadata": {},
   "outputs": [
    {
     "name": "stdout",
     "output_type": "stream",
     "text": [
      "a=  63\n",
      "b=  97\n",
      "Mul=  6111\n"
     ]
    }
   ],
   "source": [
    "a=63\n",
    "b=97\n",
    "print(\"a= \",a)\n",
    "print(\"b= \",b)\n",
    "print(\"Mul= \",a*b)"
   ]
  },
  {
   "cell_type": "code",
   "execution_count": 8,
   "id": "a98ec548-81cd-4553-9256-ff396467d4d0",
   "metadata": {},
   "outputs": [
    {
     "name": "stdout",
     "output_type": "stream",
     "text": [
      "a=  76\n",
      "b=  31\n",
      "Float Div=  2.4516129032258065\n"
     ]
    }
   ],
   "source": [
    "a=76\n",
    "b=31\n",
    "print(\"a= \",a)\n",
    "print(\"b= \",b)\n",
    "print(\"Float Div= \",a/b)"
   ]
  },
  {
   "cell_type": "code",
   "execution_count": 12,
   "id": "40b3a4e1-c1a2-4964-b778-03a9802dc2ad",
   "metadata": {},
   "outputs": [
    {
     "name": "stdout",
     "output_type": "stream",
     "text": [
      "a=  76\n",
      "b=  31\n",
      "Floor Div=  2\n"
     ]
    }
   ],
   "source": [
    "a=76\n",
    "b=31\n",
    "print(\"a= \",a)\n",
    "print(\"b= \",b)\n",
    "print(\"Floor Div= \",a//b)"
   ]
  },
  {
   "cell_type": "code",
   "execution_count": 10,
   "id": "72a5b819-d5ee-447c-9d92-b1c4505c60d2",
   "metadata": {},
   "outputs": [
    {
     "name": "stdout",
     "output_type": "stream",
     "text": [
      "a=  76\n",
      "b=  31\n",
      "Modulo=  14\n"
     ]
    }
   ],
   "source": [
    "a=76\n",
    "b=31\n",
    "print(\"a= \",a)\n",
    "print(\"b= \",b)\n",
    "print(\"Modulo= \",a%b)"
   ]
  },
  {
   "cell_type": "code",
   "execution_count": 11,
   "id": "748f677a-acd9-48e9-b9b9-a5c5609cf34b",
   "metadata": {},
   "outputs": [
    {
     "name": "stdout",
     "output_type": "stream",
     "text": [
      "a=  4\n",
      "b=  4\n",
      "Power=  256\n"
     ]
    }
   ],
   "source": [
    "a=4\n",
    "b=4\n",
    "print(\"a= \",a)\n",
    "print(\"b= \",b)\n",
    "print(\"Power= \",a**b)"
   ]
  },
  {
   "cell_type": "code",
   "execution_count": null,
   "id": "1189d68a-a51d-4f81-922a-dc5223548987",
   "metadata": {},
   "outputs": [],
   "source": []
  }
 ],
 "metadata": {
  "kernelspec": {
   "display_name": "Python [conda env:base] *",
   "language": "python",
   "name": "conda-base-py"
  },
  "language_info": {
   "codemirror_mode": {
    "name": "ipython",
    "version": 3
   },
   "file_extension": ".py",
   "mimetype": "text/x-python",
   "name": "python",
   "nbconvert_exporter": "python",
   "pygments_lexer": "ipython3",
   "version": "3.12.7"
  }
 },
 "nbformat": 4,
 "nbformat_minor": 5
}
