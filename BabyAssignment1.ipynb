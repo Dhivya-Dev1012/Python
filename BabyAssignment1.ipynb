{
 "cells": [
  {
   "cell_type": "code",
   "execution_count": 1,
   "id": "10cda50e-fe6f-44c6-8f26-be49877a3878",
   "metadata": {},
   "outputs": [
    {
     "name": "stdout",
     "output_type": "stream",
     "text": [
      "Welcome to Assignment -1\n"
     ]
    }
   ],
   "source": [
    "print(\"Welcome to Assignment -1\")"
   ]
  },
  {
   "cell_type": "code",
   "execution_count": 2,
   "id": "154c39a0-d4d3-499a-94a5-0df0e2e14355",
   "metadata": {},
   "outputs": [
    {
     "name": "stdin",
     "output_type": "stream",
     "text": [
      "Enter the number1:  10\n",
      "Enter the number2:  30\n"
     ]
    },
    {
     "name": "stdout",
     "output_type": "stream",
     "text": [
      "Num1=  10\n",
      "Num2=  30\n",
      "Add=  40\n"
     ]
    }
   ],
   "source": [
    "num1=int(input(\"Enter the number1: \"))\n",
    "num2=int(input(\"Enter the number2: \"))\n",
    "print(\"Num1= \",num1)\n",
    "print(\"Num2= \",num2)\n",
    "print(\"Add= \",num1+num2)\n"
   ]
  },
  {
   "cell_type": "code",
   "execution_count": 10,
   "id": "d370a1f2-ac9a-48ba-a4ee-497f717637c2",
   "metadata": {},
   "outputs": [
    {
     "name": "stdin",
     "output_type": "stream",
     "text": [
      "Enter the BMI value:  34\n"
     ]
    },
    {
     "name": "stdout",
     "output_type": "stream",
     "text": [
      "Very Overweight/Obese Class I\n"
     ]
    }
   ],
   "source": [
    "bmi=float(input(\"Enter the BMI value: \"))\n",
    "if(bmi<18.5):\n",
    "    print(\"Underweight\")\n",
    "elif(18.5 <= bmi <= 24.9):\n",
    "    print(\"Normal range\")\n",
    "elif(25.0 <= bmi <= 29.9):\n",
    "    print(\"Overweight\")\n",
    "elif(30.0 <= bmi <= 34.9):\n",
    "    print(\"Very Overweight/Obese Class I\")\n",
    "elif(35.0 <= bmi <= 39.9):\n",
    "    print(\"Obese Class II\")\n",
    "else:\n",
    "    print(\"Obese Class III\")\n"
   ]
  },
  {
   "cell_type": "code",
   "execution_count": null,
   "id": "b73eb6ac-dc68-41cf-a41a-a2b47e426e6f",
   "metadata": {},
   "outputs": [],
   "source": []
  }
 ],
 "metadata": {
  "kernelspec": {
   "display_name": "Python [conda env:base] *",
   "language": "python",
   "name": "conda-base-py"
  },
  "language_info": {
   "codemirror_mode": {
    "name": "ipython",
    "version": 3
   },
   "file_extension": ".py",
   "mimetype": "text/x-python",
   "name": "python",
   "nbconvert_exporter": "python",
   "pygments_lexer": "ipython3",
   "version": "3.12.7"
  }
 },
 "nbformat": 4,
 "nbformat_minor": 5
}
