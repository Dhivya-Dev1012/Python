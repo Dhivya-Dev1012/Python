{
 "cells": [
  {
   "cell_type": "code",
   "execution_count": 2,
   "id": "2d7833c2-d63c-4843-b6ff-d9f3e678d56e",
   "metadata": {},
   "outputs": [
    {
     "name": "stdout",
     "output_type": "stream",
     "text": [
      "Sub-fields in AI are:\n",
      "Machine Learning\n",
      "Neural Networks\n",
      "Vision\n",
      "Robotics\n",
      "Speech Processing\n",
      "Natural Language Processing\n"
     ]
    }
   ],
   "source": [
    "from SubFieldsinAI import SubFieldsinAI\n",
    "SubFieldsinAI.subFields()"
   ]
  },
  {
   "cell_type": "code",
   "execution_count": 3,
   "id": "5f3a27fe-43bc-44d1-80f8-e97b07c84ba9",
   "metadata": {},
   "outputs": [
    {
     "name": "stdin",
     "output_type": "stream",
     "text": [
      "Enter a number:  12\n"
     ]
    },
    {
     "data": {
      "text/plain": [
       "'12 is Even Number'"
      ]
     },
     "execution_count": 3,
     "metadata": {},
     "output_type": "execute_result"
    }
   ],
   "source": [
    "from OddEven import OddEven\n",
    "OddEven.OddEven()"
   ]
  },
  {
   "cell_type": "code",
   "execution_count": 4,
   "id": "869067b7-ccb1-4f37-bbcf-8200c2998e05",
   "metadata": {},
   "outputs": [
    {
     "name": "stdin",
     "output_type": "stream",
     "text": [
      "Enter the Gender:  Male\n",
      "Enter the Age:  27\n"
     ]
    },
    {
     "data": {
      "text/plain": [
       "'ELIGIBLE'"
      ]
     },
     "execution_count": 4,
     "metadata": {},
     "output_type": "execute_result"
    }
   ],
   "source": [
    "from EligibilityForMarriage import EligibilityForMarriage\n",
    "gender=input(\"Enter the Gender: \")\n",
    "age=int(input(\"Enter the Age: \"))\n",
    "EligibilityForMarriage.eligibilityForMarriage(gender,age)"
   ]
  },
  {
   "cell_type": "code",
   "execution_count": 5,
   "id": "154e61af-afbc-41da-a9d3-51966f7956c4",
   "metadata": {},
   "outputs": [
    {
     "name": "stdin",
     "output_type": "stream",
     "text": [
      "Enter the mark1:  97\n",
      "Enter the mark2:  87\n",
      "Enter the mark3:  99\n",
      "Enter the mark4:  100\n",
      "Enter the mark5:  100\n"
     ]
    },
    {
     "name": "stdout",
     "output_type": "stream",
     "text": [
      "Subject1=  97\n",
      "Subject2=  87\n",
      "Subject3=  99\n",
      "Subject4=  100\n",
      "Subject5=  100\n",
      "Total : 483\n",
      "Percentage: 96.59999999999999\n"
     ]
    }
   ],
   "source": [
    "from Percentage import Percentage\n",
    "Percentage.percentage()"
   ]
  },
  {
   "cell_type": "code",
   "execution_count": 1,
   "id": "e005358b-8730-4208-b401-1bdf18d04229",
   "metadata": {},
   "outputs": [
    {
     "name": "stdin",
     "output_type": "stream",
     "text": [
      "Enter Height:  10\n",
      "Enter Breadth:  10\n"
     ]
    },
    {
     "name": "stdout",
     "output_type": "stream",
     "text": [
      "Height:  10\n",
      "Breadth:  10\n",
      "Area formula: (Height*Breadth)/2\n",
      "Area of Triangle:  50.0\n"
     ]
    },
    {
     "name": "stdin",
     "output_type": "stream",
     "text": [
      "Enter Height1:  1\n",
      "Enter Height2:  1\n",
      "Enter Breadth:  4\n"
     ]
    },
    {
     "name": "stdout",
     "output_type": "stream",
     "text": [
      "Perimeter Formula: Height1+Height2+Breadth\n",
      "Perimeter of Triangle:  6\n"
     ]
    }
   ],
   "source": [
    "from Triangle import Triangle\n",
    "Triangle.triangle()"
   ]
  },
  {
   "cell_type": "code",
   "execution_count": null,
   "id": "531915c1-8793-461d-b1b8-c6f81139d262",
   "metadata": {},
   "outputs": [],
   "source": []
  }
 ],
 "metadata": {
  "kernelspec": {
   "display_name": "Python [conda env:base] *",
   "language": "python",
   "name": "conda-base-py"
  },
  "language_info": {
   "codemirror_mode": {
    "name": "ipython",
    "version": 3
   },
   "file_extension": ".py",
   "mimetype": "text/x-python",
   "name": "python",
   "nbconvert_exporter": "python",
   "pygments_lexer": "ipython3",
   "version": "3.12.7"
  }
 },
 "nbformat": 4,
 "nbformat_minor": 5
}
